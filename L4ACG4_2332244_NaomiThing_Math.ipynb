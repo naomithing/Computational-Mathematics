{
  "nbformat": 4,
  "nbformat_minor": 0,
  "metadata": {
    "colab": {
      "provenance": []
    },
    "kernelspec": {
      "name": "python3",
      "display_name": "Python 3"
    },
    "language_info": {
      "name": "python"
    }
  },
  "cells": [
    {
      "cell_type": "markdown",
      "source": [
        "Question-1"
      ],
      "metadata": {
        "id": "U0G0hPDyVeXW"
      }
    },
    {
      "cell_type": "code",
      "execution_count": 1,
      "metadata": {
        "colab": {
          "base_uri": "https://localhost:8080/"
        },
        "id": "Sqh2e0mJVdEn",
        "outputId": "3d884926-3999-4c6a-df98-78bd34d29982"
      },
      "outputs": [
        {
          "output_type": "stream",
          "name": "stdout",
          "text": [
            "Enter your gender(M/F): F\n",
            "Enter your Age: 17\n",
            "Enter your weight (in kg): 47\n",
            "Enter your height (in cm): 172\n",
            "\n",
            "Enter your exercise category code on the basis of the information provided below: \n",
            "0-Little to no exercise\n",
            "1-Light exercise (1-3 days per week)\n",
            "2-Moderate exercise (3-5 days per week)\n",
            "3-Heavy exercise (complete 1 week)\n",
            "4-Very heavy exercise (Twice per days)\n",
            "Enter=====>: 1\n",
            "\n",
            "BMR: 934.14\n",
            "Daily Recommended Calories Intake: 1284.44 kcal per day\n"
          ]
        }
      ],
      "source": [
        "#Name: Naomi Thing\n",
        "#University ID: 2332244\n",
        "\n",
        "def info():\n",
        "    '''info() function is created to avoid taking inputs twice.'''\n",
        "    while True:\n",
        "        try:#used to deal with invalid input\n",
        "            age=int(input(\"Enter your Age: \"))\n",
        "            kg=int(input(\"Enter your weight (in kg): \"))\n",
        "            cm=int(input(\"Enter your height (in cm): \"))\n",
        "            print()\n",
        "            return age,kg,cm\n",
        "        except:#re-executes the loop if invalid input is provided\n",
        "            print(\"Invalid Input | Enter Again\")\n",
        "            print()\n",
        "            continue\n",
        "def caloriesintake(bmr):\n",
        "    '''caloriesintake(bmr) function is used to calculate the daily calorie intake requirement based on an individual's level of exercise.'''\n",
        "    while True:#used for handling invalid inputs\n",
        "        print(\"Enter your exercise category code on the basis of the information provided below: \")\n",
        "        print(\"0-Little to no exercise\")\n",
        "        print(\"1-Light exercise (1-3 days per week)\")\n",
        "        print(\"2-Moderate exercise (3-5 days per week)\")\n",
        "        print(\"3-Heavy exercise (complete 1 week)\")\n",
        "        print(\"4-Very heavy exercise (Twice per days)\")\n",
        "        try:\n",
        "            ecode=int(input(\"Enter=====>: \"))\n",
        "            print()\n",
        "            #if-statements are used to calcualte calorie intake based on exercise level.\n",
        "            if(ecode==0):\n",
        "                cintake=bmr*1.2\n",
        "            elif(ecode==1):\n",
        "                cintake=bmr*1.375\n",
        "            elif(ecode==2):\n",
        "                cintake=bmr*1.55\n",
        "            elif(ecode==3):\n",
        "                cintake=bmr*1.725\n",
        "            elif(ecode==4):\n",
        "                cintake=bmr*1.9    \n",
        "            return cintake\n",
        "        except:\n",
        "            print(\"Enter from (0-4).\")\n",
        "            continue\n",
        "            \n",
        "def men():\n",
        "    '''men() function for calculating men's bmr and required calories intake'''\n",
        "    details=[]#the list variable is used to collect the information about individuals returned by the info() function.\n",
        "    details=info()\n",
        "    #age, kg, and cm were calculated using the details[..] list\n",
        "    kg=details[0]\n",
        "    age=details[1]\n",
        "    cm=details[2]\n",
        "    \n",
        "    bmr=88.362+(13.397*kg)+(4.799*cm)-(5.677*age)#calculation of men's bmr\n",
        "    cintake=caloriesintake(bmr)#calculation of calories intake requirement using caloriesintake(bmr) function\n",
        "    \n",
        "    print(f\"BMR: {bmr:.2f}\")#.:2f used for displaying formattted output in which only 2 values after floating point is displayed\n",
        "    print(f\"Daily Recommended Calories Intake: {cintake:.2f} kcal per day\")\n",
        "def women():\n",
        "    '''women() function used for calculating women's bmr and required calories intake'''\n",
        "    details=[]\n",
        "    details=info()\n",
        "    kg=details[0]\n",
        "    age=details[1]\n",
        "    cm=details[2]\n",
        "    \n",
        "    bmr=447.593+(9.247*kg)+(3.098*cm)-(4.330*age)\n",
        "    cintake=caloriesintake(bmr)\n",
        "    \n",
        "    print(f\"BMR: {bmr:.2f}\")\n",
        "    print(f\"Daily Recommended Calories Intake: {cintake:.2f} kcal per day\")\n",
        "while True:#used to keep users in a loop until 'm' or 'f' is entered as gender input.\n",
        "    gender=input(\"Enter your gender(M/F): \")\n",
        "    if(gender==\"M\" or gender==\"m\"):\n",
        "        men()\n",
        "        break\n",
        "    elif(gender==\"F\" or gender==\"f\"):\n",
        "        women()\n",
        "        break\n",
        "    else:\n",
        "        print(\"Invalid Gender !!\")\n",
        "        print(\"Enter M or F\")\n",
        "        print()\n",
        "        continue"
      ]
    },
    {
      "cell_type": "markdown",
      "source": [
        "Question-2"
      ],
      "metadata": {
        "id": "XM3BCpKCVt9e"
      }
    },
    {
      "cell_type": "code",
      "source": [
        "#Name: Naomi Thing\n",
        "#University ID: 2332244\n",
        "\n",
        "def summy(a,b):\n",
        "    '''the summy() function is used to calculate the sum of 2 numbers by repeatedly calling itself or by using recursion.'''\n",
        "    while True:#used for keeping users in a loop until valid inputs are provided\n",
        "        try:#try code runs when valid input is given\n",
        "            if(a==b):\n",
        "                return b \n",
        "            else:\n",
        "                return a+summy(a+1,b)#function calls itself again and again by increasing the value of a by 1 until and unless a is not equal to b\n",
        "        except:#used for instructing users to enter valid inputs and for re-executing the loop\n",
        "            print(\"Enter integer value\")\n",
        "            continue\n",
        "def inputt():\n",
        "    '''inputt() function used to taking input from the users until valid inputs are provided'''\n",
        "    while True:#used for keeping users in a loop until valid inputs are provided \n",
        "        try:\n",
        "            a=int(input(\"Enter first number: \"))\n",
        "            b=int(input(\"Enter second number: \"))\n",
        "            if(a>b):#if low number is more than high number the user is sent to the beginning of the loop\n",
        "                print(\"Low value needs to be less than High value\")\n",
        "                continue\n",
        "            else:#if the low number is less than high number the loop gets terminated and the program progresses\n",
        "                return a,b\n",
        "                break\n",
        "        except:\n",
        "            print(\"Invalid Input\")\n",
        "            continue\n",
        "def execution():  \n",
        "    '''execution() function is used to call other functions of the program and for easier recurrence of the program'''\n",
        "    a,b=inputt()\n",
        "    result=summy(a,b)#summy(a,b) function is called and the upcoming returned value is stored in result variable\n",
        "    print(f\"Sum of numbers between {a} and {b} inclusive is {result}\")\n",
        "    while True: #used to keep users in a loop until a valid input is provided\n",
        "        try: #code written in try will get executed until there are no sytax errors\n",
        "            inn=input(\"Do you want to run the program again?: \")\n",
        "            if(inn==\"Y\" or inn==\"y\"): #if y is inputted the execution function is executed\n",
        "                execution()\n",
        "            if(inn==\"N\" or inn==\"n\"):        \n",
        "                break\n",
        "            break\n",
        "        except:\n",
        "            print(\"Enter y or n!!\")\n",
        "            continue\n",
        "execution() #execution() function called for atleast one time execution"
      ],
      "metadata": {
        "colab": {
          "base_uri": "https://localhost:8080/"
        },
        "id": "qArujIo4V21_",
        "outputId": "29b0fde3-9496-447d-c71c-2b2baff724cf"
      },
      "execution_count": 2,
      "outputs": [
        {
          "name": "stdout",
          "output_type": "stream",
          "text": [
            "Enter first number: 67\n",
            "Enter second number: 45\n",
            "Low value needs to be less than High value\n",
            "Enter first number: 56\n",
            "Enter second number: 67\n",
            "Sum of numbers between 56 and 67 inclusive is 738\n",
            "Do you want to run the program again?: y\n",
            "Enter first number: 33\n",
            "Enter second number: 44\n",
            "Sum of numbers between 33 and 44 inclusive is 462\n",
            "Do you want to run the program again?: n\n"
          ]
        }
      ]
    },
    {
      "cell_type": "markdown",
      "source": [
        "Question-3"
      ],
      "metadata": {
        "id": "FAma8wJpWMe5"
      }
    },
    {
      "cell_type": "code",
      "source": [
        "#Name: Naomi Thing\n",
        "#University ID: 2332244\n",
        "\n",
        "import matplotlib.pyplot as p #imported matplotlib library\n",
        "def f1(x):\n",
        "    '''f1(x) function is created for the calculation of first function i.e. y=3x(x^2)'''\n",
        "    y1=3*(x**2) #calculation performed and stored in variable y1\n",
        "    return y1 #returned the result stored in y1 variable for further process\n",
        "def f2(x):\n",
        "    '''f1(x) function created for the calculation of 2nd function i.e. y=4x-3'''\n",
        "    y2=(4*x)-3 #calculation performed and stored in y2 variable\n",
        "    return y2 #returning the result of y2 variable for other calculations\n",
        "xx=[] #empty list created for storing the value of x in as the value of x changes \n",
        "function1=[] #empty list created for storing the resultant value of y1 as values of x changes\n",
        "function2=[] #empty list created for storing the resultant value of y2 as values of x changes\n",
        "for i in range(-5,16):\n",
        "    xx.append(i) #i is taken as the value of x from -5 to 15\n",
        "    function1.append(f1(i)) #value of y1 at different values of x is stored/appended in the funtion1 list\n",
        "    function2.append(f2(i)) #value of y2 at different values of x is stored/appended in the function2 list\n",
        "print(function1)\n",
        "print(function2)\n",
        "p.xlabel(\"X-axis\") # the x-axis is being labeled using the library\n",
        "p.ylabel(\"Y-axis\") # the y-axis is being labled using the library\n",
        "p.title(\"Functions: f(x)=3x**2 and f(x)=4x-3\") #header/title is given to the graph\n",
        "p.plot(xx,function1,marker=\".\",linestyle=\"-\",linewidth=\"1\",label=\"3x^2\",color=\"blue\")#used for plotting graphs at different values stored in 'xx' list and 'function1' list , values of xx taken as x, values of function1 taken as values of y\n",
        "p.plot(xx,function2,marker=\".\",linestyle=\"-\",linewidth=\"1\",label=\"4x-3\", color=\"violet\")#used for plotting graphs at different values stored in 'xx' list and 'function2' list, values of xx taken as x, values of function1 taken as values of y\n",
        "p.legend(loc=\"upper left\") #positioning of the label is set using .legend()\n",
        "p.grid() #grid lines are shown \n",
        "p.show() #used for displaying the graph"
      ],
      "metadata": {
        "colab": {
          "base_uri": "https://localhost:8080/",
          "height": 507
        },
        "id": "H1EHhkG5WOfS",
        "outputId": "11e5c94f-5b9c-4000-a978-29e4fde082aa"
      },
      "execution_count": 3,
      "outputs": [
        {
          "output_type": "stream",
          "name": "stdout",
          "text": [
            "[75, 48, 27, 12, 3, 0, 3, 12, 27, 48, 75, 108, 147, 192, 243, 300, 363, 432, 507, 588, 675]\n",
            "[-23, -19, -15, -11, -7, -3, 1, 5, 9, 13, 17, 21, 25, 29, 33, 37, 41, 45, 49, 53, 57]\n"
          ]
        },
        {
          "output_type": "display_data",
          "data": {
            "text/plain": [
              "<Figure size 640x480 with 1 Axes>"
            ],
            "image/png": "[encoded data removed]"
          },
          "metadata": {}
        }
      ]
    }
  ]
}