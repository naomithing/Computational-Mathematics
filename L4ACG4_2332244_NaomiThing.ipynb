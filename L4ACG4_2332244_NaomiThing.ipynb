{
  "cells": [
    {
      "cell_type": "markdown",
      "metadata": {
        "id": "66x3yo_K4m52"
      },
      "source": [
        "Question-1"
      ]
    },
    {
      "cell_type": "code",
      "execution_count": null,
      "metadata": {
        "colab": {
          "base_uri": "https://localhost:8080/"
        },
        "id": "jTAppJTt4kpu",
        "outputId": "03610495-32fb-459c-973c-9d3cdc651d21"
      },
      "outputs": [
        {
          "name": "stdout",
          "output_type": "stream",
          "text": [
            "enter value for (1,1): 2\n",
            "enter value for (1,2): 3\n",
            "enter value for (1,3): 4\n",
            "enter value for (2,1): 1\n",
            "enter value for (2,2): 55\n",
            "enter value for (2,3): 6\n",
            "enter value for (3,1): 4\n",
            "enter value for (3,2): 7\n",
            "enter value for (3,3): 3\n",
            "Matrix A: \n",
            "2.0 3.0 4.0 \n",
            "1.0 55.0 6.0 \n",
            "4.0 7.0 3.0 \n",
            "\n",
            "Determinant of A: -543.0000000000003\n",
            "\n",
            "Inverse of A: \n",
            "-0.22651933701657462 -0.034990791896869246 0.37200736648250465 \n",
            "-0.038674033149171276 0.01841620626151013 0.014732965009208107 \n",
            "0.3922651933701658 0.0036832412523020264 -0.19705340699815843 \n",
            "\n",
            "A*A: \n",
            "23.0 199.0 38.0 \n",
            "81.0 3070.0 352.0 \n",
            "27.0 418.0 67.0 \n",
            "\n",
            "A*A*A: \n",
            "397.0 11280.0 1400.0 \n",
            "4640.0 171557.0 19800.0 \n",
            "740.0 23540.0 2817.0 \n",
            "\n",
            "Number of values in A that are >= 10: 1\n"
          ]
        }
      ],
      "source": [
        "#name: Naomi Thing\n",
        "#student ID: 2332244\n",
        "\n",
        "import numpy as np\n",
        "\n",
        "def get_matrix():\n",
        "  \"\"\"This function prompts the user to input 9 numbers and returns a 3x3 matrix containing these values.\"\"\"\n",
        "  matrix = []\n",
        "  for i in range(3):\n",
        "    row = []\n",
        "    for j in range(3):\n",
        "      while True:\n",
        "        try:\n",
        "          value = float(input(f\"enter value for ({i+1},{j+1}): \"))\n",
        "          row.append(value)\n",
        "          break\n",
        "        except ValueError:\n",
        "          print(\"Invalid input. Please enter a number.\")\n",
        "    matrix.append(row)\n",
        "  return np.array(matrix)\n",
        "\n",
        "def print_matrix(matrix):\n",
        "  \"\"\"This function takes a matrix and prints it to the console.\"\"\"\n",
        "  for row in matrix:\n",
        "    for value in row:\n",
        "      print(value, end=' ')\n",
        "    print()\n",
        "  print()\n",
        "\n",
        "def main():\n",
        "  A = get_matrix()\n",
        "\n",
        "  #print the matrix A\n",
        "  print(\"Matrix A: \")\n",
        "  print_matrix(A)\n",
        "\n",
        "  #print the determinant of A\n",
        "  deter = np.linalg.det(A)\n",
        "  print(f\"Determinant of A: {deter}\\n\")\n",
        "\n",
        "  #print the inverse of A(if it exists)\n",
        "  if deter==0:\n",
        "    print(\"Inverse of A does not exist.\")\n",
        "  else:\n",
        "    A_inv = np.linalg.inv(A)\n",
        "    print(\"Inverse of A: \")\n",
        "    print_matrix(A_inv)\n",
        "\n",
        "  #print the result of A*A and A*A*A\n",
        "  print(\"A*A: \")\n",
        "  print_matrix(A.dot(A))\n",
        "  print(\"A*A*A: \")\n",
        "  print_matrix(A.dot(A).dot(A))\n",
        "\n",
        "  #print the number of values in A that are >=10\n",
        "  count = 0\n",
        "  for row in A:\n",
        "    for value in row:\n",
        "      if value >=10:\n",
        "        count +=1\n",
        "  print(f\"Number of values in A that are >= 10: {count}\")\n",
        "\n",
        "if __name__ == '__main__':\n",
        "  main()"
      ]
    },
    {
      "cell_type": "markdown",
      "metadata": {
        "id": "fFDF9LQSAOLe"
      },
      "source": [
        "Question-2"
      ]
    },
    {
      "cell_type": "code",
      "execution_count": 7,
      "metadata": {
        "colab": {
          "base_uri": "https://localhost:8080/"
        },
        "id": "R4DKP1udAPz2",
        "outputId": "4b76581b-c25a-49d6-aa93-06be1dcd9d7d"
      },
      "outputs": [
        {
          "name": "stdout",
          "output_type": "stream",
          "text": [
            "enter the dimension of the square matrix: 0\n",
            "dimension should be greater than 0\n",
            "enter the dimension of the square matrix: 3\n",
            "enter element at row 1 and column 1: 1\n",
            "enter element at row 1 and column 2: 2\n",
            "enter element at row 1 and column 3: 3\n",
            "enter element at row 2 and column 1: 4\n",
            "enter element at row 2 and column 2: 5\n",
            "enter element at row 2 and column 3: 6\n",
            "enter element at row 3 and column 1: 7\n",
            "enter element at row 3 and column 2: 8\n",
            "enter element at row 3 and column 3: 9\n",
            "your matrix: \n",
            "[[1. 2. 3.]\n",
            " [4. 5. 6.]\n",
            " [7. 8. 9.]]\n",
            "the sum of diagonal elements of the matrix is: 15.0\n",
            "\n",
            "Do you want to run the program again? (Y/N): N\n",
            "thank you for using the program. Goodbye!\n"
          ]
        }
      ],
      "source": [
        "#name: Naomi Thing\n",
        "#student ID: 2332244\n",
        "\n",
        "import numpy as np\n",
        "\n",
        "def input_matrix(dim):\n",
        "  \"\"\"Takes input from user to create a square matrix of given dimension.\n",
        "  Returns the matrix as a numpy array.\"\"\"\n",
        "  while True:\n",
        "    try: #initialize a 2D array of zeros to store the matrix\n",
        "      matrix=np.zeros((dim, dim))\n",
        "      for i in range(dim): #iterate over each row and column to get input from user\n",
        "        for j in range(dim):\n",
        "          #promt useer to enter value at current position\n",
        "          matrix[i][j] = int(input(f\"enter element at row {i+1} and column {j+1}: \"))\n",
        "      return matrix #return the matrix as a numpy array\n",
        "    except:\n",
        "      #if input is invalid, display error message and prompt again\n",
        "      print(\"Invalid input. please try again\")\n",
        "      continue\n",
        "\n",
        "def diagonal_sum(matrix):\n",
        "  \"\"\"Calculates the sum of diagonal elements of a square matrix.\n",
        "  Returns the sum.\"\"\"\n",
        "  #extract diagonal elements of matrix as a 1D array using np.diag()\n",
        "  diagonal = np.diag(matrix)\n",
        "  #calculate sum of diagonal elements using np.sum()\n",
        "  return np.sum(diagonal)\n",
        "\n",
        "def main():\n",
        "  while True:\n",
        "    try:\n",
        "      dim = int(input(\"enter the dimension of the square matrix: \"))\n",
        "      if dim > 0:\n",
        "        matrix = input_matrix(dim)#call input_matrix() function to get matrix from user\n",
        "        print(\"your matrix: \") #display the matrix of user\n",
        "        print(matrix)\n",
        "        #call diagonal_sum() function to claculate diagonal sum \n",
        "        diagonal = diagonal_sum(matrix)\n",
        "        #display diagonal sum to the user\n",
        "        print(f\"the sum of diagonal elements of the matrix is: {diagonal}\")\n",
        "        break\n",
        "      else:\n",
        "        #if dimension is invalid, display error message and prompt again\n",
        "        print(\"dimension should be greater than 0\")\n",
        "        continue\n",
        "    except:\n",
        "      #if input is invalid, display error message and prompt again\n",
        "      print(\"Invalid input, please try again.\")\n",
        "      continue\n",
        "    \n",
        "  while True:\n",
        "    try:\n",
        "      #prompt user to decide whether to run the program again or not\n",
        "      conn = input(\"\\nDo you want to run the program again? (Y/N): \")\n",
        "      if conn.lower()==\"y\":\n",
        "        #if user wants to run again, call main() function again\n",
        "        main()\n",
        "      elif conn.lower()==\"n\":\n",
        "        #if user does not want to run again, display exit message\n",
        "        print(\"thank you for using the program. Goodbye!\")\n",
        "        break\n",
        "      else:\n",
        "        #if input is invalid, display error message and prompt again\n",
        "        print(\"Invalid input, please enter Y or N.\")\n",
        "        continue\n",
        "      break\n",
        "    except:\n",
        "      print(\"Invalid input, please try again!\")\n",
        "      continue\n",
        "#call main() function to start the program\n",
        "main()"
      ]
    },
    {
      "cell_type": "markdown",
      "metadata": {
        "id": "ug_ZqOS0HTbW"
      },
      "source": [
        "Question-3"
      ]
    },
    {
      "cell_type": "code",
      "execution_count": 8,
      "metadata": {
        "colab": {
          "base_uri": "https://localhost:8080/"
        },
        "id": "6gml3OGaHVBb",
        "outputId": "4389b406-05aa-4ea5-9ee7-958e3eb4556e"
      },
      "outputs": [
        {
          "name": "stdout",
          "output_type": "stream",
          "text": [
            "Result: ackermann(2,3) ==> 9\n",
            "The number of times the function ackermann(2,3) has been called is: 44\n"
          ]
        }
      ],
      "source": [
        "#name: Naomi Thing\n",
        "#stduent ID: 2332244\n",
        "\n",
        "def ackermann(m,n):\n",
        "  #base case 1: A(0,n)=n+1\n",
        "  if m==0:\n",
        "    return n+1,1\n",
        "    #base case 2: A(m,0)=A(m-1,1)\n",
        "  elif m>0 and n==0:\n",
        "    #recursively evaluate A(m-1,1)\n",
        "    count=1\n",
        "    result, count_sub = ackermann(m-1,1)\n",
        "    count += count_sub #increment the recursive call count by the count for the sub-call\n",
        "    return result, count\n",
        "  else: #recursive case: A(m,n)=A(m-1,A(m,n-1))\n",
        "    count=1\n",
        "    #recursively evaluate A(m,n-1)\n",
        "    result_inner, count_inner=ackermann(m,n-1)\n",
        "    #increment the recursive call count by the count for the inner call\n",
        "    count += count_inner\n",
        "    #recursively evaluate A(m-1,A(m,n-1))\n",
        "    result, count_sub=ackermann(m-1,result_inner)\n",
        "    #increment the recursvie call count by the count for the sub-call\n",
        "    count += count_sub\n",
        "    return result, count\n",
        "\n",
        "m=2\n",
        "n=3\n",
        "result, count=ackermann(m,n) #call the function and get the result and the total number of recursive calls\n",
        "#print the result and the total number of recursive calls\n",
        "print(f\"Result: ackermann({m},{n}) is {result}\")\n",
        "print(f\"The number of times the function ackermann({m},{n}) has been called is: {count}\")\n"
      ]
    }
  ],
  "metadata": {
    "colab": {
      "provenance": []
    },
    "kernelspec": {
      "display_name": "Python 3",
      "name": "python3"
    },
    "language_info": {
      "name": "python"
    }
  },
  "nbformat": 4,
  "nbformat_minor": 0
}
